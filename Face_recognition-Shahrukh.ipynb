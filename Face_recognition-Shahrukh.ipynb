{
 "cells": [
  {
   "cell_type": "code",
   "execution_count": 2,
   "metadata": {},
   "outputs": [],
   "source": [
    "# import the libraries\n",
    "import os\n",
    "import face_recognition\n"
   ]
  },
  {
   "cell_type": "code",
   "execution_count": 3,
   "metadata": {},
   "outputs": [],
   "source": [
    "# make a list of all the available images\n",
    "images = os.listdir(\"images\")"
   ]
  },
  {
   "cell_type": "code",
   "execution_count": 4,
   "metadata": {},
   "outputs": [],
   "source": [
    "# load your image\n",
    "image_to_be_matched = face_recognition.load_image_file('Image Data/Shahrukh.jpg')"
   ]
  },
  {
   "cell_type": "code",
   "execution_count": 5,
   "metadata": {},
   "outputs": [],
   "source": [
    "# To make sure that the algorithms are able to interpret the image, we convert the image to a feature vector:\n",
    "# encoded the loaded image into a feature vector\n",
    "\n",
    "image_to_be_matched_encoded = face_recognition.face_encodings(image_to_be_matched)[0]"
   ]
  },
  {
   "cell_type": "code",
   "execution_count": 14,
   "metadata": {},
   "outputs": [
    {
     "name": "stdout",
     "output_type": "stream",
     "text": [
      "Not matched: Bill-Gates.jpg\n",
      "Not matched: Elon-mask.jpg\n",
      "Not matched: Jack_Ma.jpg\n",
      "Not matched: Mark-zuckerberg.jpg\n",
      "Not matched: obama_small.jpg\n",
      "Matched: Shahrukh.jpg\n",
      "Not matched: Steve_Jobs.jpg\n",
      "Face Matching Score: [0.77799326]\n"
     ]
    }
   ],
   "source": [
    "# iterate over each image\n",
    "\n",
    "for image in images:\n",
    "    # load the image\n",
    "    current_image = face_recognition.load_image_file(\"images/\" + image)\n",
    "    \n",
    "    # encode the loaded image into a feature vector\n",
    "    current_image_encoded = face_recognition.face_encodings(current_image)[0]\n",
    "    \n",
    "     # match your image with the image and check if it matches\n",
    "    result = face_recognition.compare_faces([image_to_be_matched_encoded], current_image_encoded)\n",
    "    \n",
    "     # check if it was a match\n",
    "    if result[0] == True:\n",
    "        print(\"Matched: \" + image)\n",
    "    else:\n",
    "        print(\"Not matched: \" + image)\n",
    "        \n",
    "     # match your image with the image and check if it matches\n",
    "        \n",
    "    # Given a list of face encodings, compare them to a known face \n",
    "    #encoding and get a euclidean distance for each comparison face. \n",
    "    #The distance tells you how similar the faces are.\n",
    "    face_matching_score = face_recognition.api.face_distance([image_to_be_matched_encoded], current_image_encoded)\n",
    "print(\"Face Matching Score:\",face_matching_score)"
   ]
  },
  {
   "cell_type": "code",
   "execution_count": null,
   "metadata": {},
   "outputs": [],
   "source": []
  }
 ],
 "metadata": {
  "kernelspec": {
   "display_name": "Python 3",
   "language": "python",
   "name": "python3"
  },
  "language_info": {
   "codemirror_mode": {
    "name": "ipython",
    "version": 3
   },
   "file_extension": ".py",
   "mimetype": "text/x-python",
   "name": "python",
   "nbconvert_exporter": "python",
   "pygments_lexer": "ipython3",
   "version": "3.6.7"
  }
 },
 "nbformat": 4,
 "nbformat_minor": 2
}
